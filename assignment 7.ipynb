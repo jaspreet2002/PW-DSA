{
 "cells": [
  {
   "cell_type": "markdown",
   "id": "82000b83-856b-4015-9fca-359c140b71e2",
   "metadata": {},
   "source": [
    "<aside>\n",
    "💡 **Question 1**\n",
    "\n",
    "Given two strings s and t, *determine if they are isomorphic*.\n",
    "\n",
    "Two strings s and t are isomorphic if the characters in s can be replaced to get t.\n",
    "\n",
    "All occurrences of a character must be replaced with another character while preserving the order of characters. No two characters may map to the same character, but a character may map to itself.\n",
    "\n",
    "**Example 1:**\n",
    "\n",
    "**Input:** s = \"egg\", t = \"add\"\n",
    "\n",
    "**Output:** true\n",
    "\n",
    "</aside>"
   ]
  },
  {
   "cell_type": "code",
   "execution_count": 1,
   "id": "e20cd51f-196e-425e-bf99-93376c7e6cda",
   "metadata": {},
   "outputs": [
    {
     "name": "stdout",
     "output_type": "stream",
     "text": [
      "True\n",
      "False\n"
     ]
    }
   ],
   "source": [
    "def isIsomorphic(s, t):\n",
    "    if len(s) != len(t):\n",
    "        return False\n",
    "\n",
    "    mapping = {}  # Mapping dictionary\n",
    "\n",
    "    for i in range(len(s)):\n",
    "        if s[i] not in mapping and t[i] not in mapping:\n",
    "            mapping[s[i]] = t[i]\n",
    "        elif s[i] in mapping and mapping[s[i]] != t[i]:\n",
    "            return False\n",
    "        elif s[i] not in mapping and t[i] in mapping:\n",
    "            return False\n",
    "\n",
    "    return True\n",
    "\n",
    "# Test the function\n",
    "s = \"egg\"\n",
    "t = \"add\"\n",
    "print(isIsomorphic(s, t))\n",
    "# Output: True\n",
    "\n",
    "s = \"foo\"\n",
    "t = \"bar\"\n",
    "print(isIsomorphic(s, t))\n",
    "# Output: False\n"
   ]
  },
  {
   "cell_type": "markdown",
   "id": "6616e73f-fd4f-4896-baf2-3bf72005c916",
   "metadata": {},
   "source": [
    "<aside>\n",
    "💡 **Question 2**\n",
    "\n",
    "Given a string num which represents an integer, return true *if* num *is a **strobogrammatic number***.\n",
    "\n",
    "A **strobogrammatic number** is a number that looks the same when rotated 180 degrees (looked at upside down).\n",
    "\n",
    "**Example 1:**\n",
    "\n",
    "**Input:** num = \"69\"\n",
    "\n",
    "**Output:**\n",
    "\n",
    "true\n",
    "\n",
    "</aside>"
   ]
  },
  {
   "cell_type": "code",
   "execution_count": 2,
   "id": "a315bc61-d6da-4eff-91c6-48401e705220",
   "metadata": {},
   "outputs": [
    {
     "name": "stdout",
     "output_type": "stream",
     "text": [
      "True\n",
      "True\n",
      "False\n"
     ]
    }
   ],
   "source": [
    "def isStrobogrammatic(num):\n",
    "    mapping = {'0': '0', '1': '1', '6': '9', '8': '8', '9': '6'}\n",
    "    left, right = 0, len(num) - 1\n",
    "\n",
    "    while left <= right:\n",
    "        if num[left] not in mapping or num[right] not in mapping:\n",
    "            return False\n",
    "        if num[left] != mapping[num[right]]:\n",
    "            return False\n",
    "        left += 1\n",
    "        right -= 1\n",
    "\n",
    "    return True\n",
    "\n",
    "# Test the function\n",
    "num = \"69\"\n",
    "print(isStrobogrammatic(num))\n",
    "# Output: True\n",
    "\n",
    "num = \"88\"\n",
    "print(isStrobogrammatic(num))\n",
    "# Output: True\n",
    "\n",
    "num = \"962\"\n",
    "print(isStrobogrammatic(num))\n",
    "# Output: False\n"
   ]
  },
  {
   "cell_type": "markdown",
   "id": "9129df77-3c1c-493d-b28a-61ee6afcdb14",
   "metadata": {},
   "source": [
    "<aside>\n",
    "💡 **Question 3**\n",
    "\n",
    "Given two non-negative integers, num1 and num2 represented as string, return *the sum of* num1 *and* num2 *as a string*.\n",
    "\n",
    "You must solve the problem without using any built-in library for handling large integers (such as BigInteger). You must also not convert the inputs to integers directly.\n",
    "\n",
    "**Example 1:**\n",
    "\n",
    "**Input:** num1 = \"11\", num2 = \"123\"\n",
    "\n",
    "**Output:**\n",
    "\n",
    "\"134\"\n",
    "\n",
    "</aside>"
   ]
  },
  {
   "cell_type": "code",
   "execution_count": 3,
   "id": "f19c6504-a28d-4ef4-a30a-72de61a5b033",
   "metadata": {},
   "outputs": [
    {
     "name": "stdout",
     "output_type": "stream",
     "text": [
      "134\n",
      "533\n",
      "0\n"
     ]
    }
   ],
   "source": [
    "def addStrings(num1, num2):\n",
    "    result = []\n",
    "    carry = 0\n",
    "    p1, p2 = len(num1) - 1, len(num2) - 1\n",
    "\n",
    "    while p1 >= 0 or p2 >= 0:\n",
    "        digit1 = int(num1[p1]) if p1 >= 0 else 0\n",
    "        digit2 = int(num2[p2]) if p2 >= 0 else 0\n",
    "        total = digit1 + digit2 + carry\n",
    "        carry = total // 10\n",
    "        digit = total % 10\n",
    "        result.append(str(digit))\n",
    "        p1 -= 1\n",
    "        p2 -= 1\n",
    "\n",
    "    if carry > 0:\n",
    "        result.append(str(carry))\n",
    "\n",
    "    result.reverse()\n",
    "    return ''.join(result)\n",
    "\n",
    "# Test the function\n",
    "num1 = \"11\"\n",
    "num2 = \"123\"\n",
    "print(addStrings(num1, num2))\n",
    "# Output: \"134\"\n",
    "\n",
    "num1 = \"456\"\n",
    "num2 = \"77\"\n",
    "print(addStrings(num1, num2))\n",
    "# Output: \"533\"\n",
    "\n",
    "num1 = \"0\"\n",
    "num2 = \"0\"\n",
    "print(addStrings(num1, num2))\n",
    "# Output: \"0\"\n"
   ]
  },
  {
   "cell_type": "markdown",
   "id": "c1261820-bd95-4a28-bf0e-87dff6bfd1d8",
   "metadata": {},
   "source": [
    "<aside>\n",
    "💡 **Question 4**\n",
    "\n",
    "Given a string s, reverse the order of characters in each word within a sentence while still preserving whitespace and initial word order.\n",
    "\n",
    "**Example 1:**\n",
    "\n",
    "**Input:** s = \"Let's take LeetCode contest\"\n",
    "\n",
    "**Output:** \"s'teL ekat edoCteeL tsetnoc\"\n",
    "\n",
    "</aside>"
   ]
  },
  {
   "cell_type": "code",
   "execution_count": 4,
   "id": "e4d39f9a-313d-46b8-97ab-fa5a34e58abb",
   "metadata": {},
   "outputs": [
    {
     "name": "stdout",
     "output_type": "stream",
     "text": [
      "s'teL ekat edoCteeL tsetnoc\n",
      "olleH dlroW\n"
     ]
    }
   ],
   "source": [
    "def reverseWords(s):\n",
    "    # Split the sentence into individual words\n",
    "    words = s.split()\n",
    "\n",
    "    # Reverse each word\n",
    "    reversed_words = [word[::-1] for word in words]\n",
    "\n",
    "    # Join the reversed words back into a sentence\n",
    "    reversed_sentence = ' '.join(reversed_words)\n",
    "\n",
    "    return reversed_sentence\n",
    "\n",
    "# Test the function\n",
    "s = \"Let's take LeetCode contest\"\n",
    "print(reverseWords(s))\n",
    "# Output: \"s'teL ekat edoCteeL tsetnoc\"\n",
    "\n",
    "s = \"Hello World\"\n",
    "print(reverseWords(s))\n",
    "# Output: \"olleH dlroW\"\n"
   ]
  },
  {
   "cell_type": "markdown",
   "id": "f7121ff1-3ecd-441c-bc20-926f7b106186",
   "metadata": {},
   "source": [
    "<aside>\n",
    "💡 **Question 5**\n",
    "\n",
    "Given a string s and an integer k, reverse the first k characters for every 2k characters counting from the start of the string.\n",
    "\n",
    "If there are fewer than k characters left, reverse all of them. If there are less than 2k but greater than or equal to k characters, then reverse the first k characters and leave the other as original.\n",
    "\n",
    "**Example 1:**\n",
    "\n",
    "**Input:** s = \"abcdefg\", k = 2\n",
    "\n",
    "**Output:**\n",
    "\n",
    "\"bacdfeg\"\n",
    "\n",
    "</aside>"
   ]
  },
  {
   "cell_type": "code",
   "execution_count": 5,
   "id": "6e2a72a7-53fe-4a08-b7fe-ee76c73ea3b5",
   "metadata": {},
   "outputs": [
    {
     "name": "stdout",
     "output_type": "stream",
     "text": [
      "bacdfeg\n",
      "cbadefhg\n"
     ]
    }
   ],
   "source": [
    "def reverseStr(s, k):\n",
    "    # Convert string to list of characters\n",
    "    chars = list(s)\n",
    "    \n",
    "    n = len(s)\n",
    "    for i in range(0, n, 2 * k):\n",
    "        # Reverse the first k characters within the range\n",
    "        chars[i:i+k] = chars[i:i+k][::-1]\n",
    "    \n",
    "    # Convert the list back to a string\n",
    "    reversed_str = ''.join(chars)\n",
    "    \n",
    "    return reversed_str\n",
    "\n",
    "# Test the function\n",
    "s = \"abcdefg\"\n",
    "k = 2\n",
    "print(reverseStr(s, k))\n",
    "# Output: \"bacdfeg\"\n",
    "\n",
    "s = \"abcdefgh\"\n",
    "k = 3\n",
    "print(reverseStr(s, k))\n",
    "# Output: \"cbadefhg\"\n"
   ]
  },
  {
   "cell_type": "markdown",
   "id": "e6d7f96b-b5b5-4d79-b8b1-6f1bee8ba4a3",
   "metadata": {},
   "source": [
    "<aside>\n",
    "💡 **Question 6**\n",
    "\n",
    "Given two strings s and goal, return true *if and only if* s *can become* goal *after some number of **shifts** on* s.\n",
    "\n",
    "A **shift** on s consists of moving the leftmost character of s to the rightmost position.\n",
    "\n",
    "- For example, if s = \"abcde\", then it will be \"bcdea\" after one shift.\n",
    "\n",
    "**Example 1:**\n",
    "\n",
    "**Input:** s = \"abcde\", goal = \"cdeab\"\n",
    "\n",
    "**Output:**\n",
    "\n",
    "true\n",
    "\n",
    "</aside>"
   ]
  },
  {
   "cell_type": "code",
   "execution_count": 6,
   "id": "b34c6622-f2a7-45b2-a397-2fdd57a651cb",
   "metadata": {},
   "outputs": [
    {
     "name": "stdout",
     "output_type": "stream",
     "text": [
      "True\n",
      "False\n"
     ]
    }
   ],
   "source": [
    "def rotateString(s, goal):\n",
    "    # Check if s and goal have the same length\n",
    "    if len(s) != len(goal):\n",
    "        return False\n",
    "    \n",
    "    # Concatenate s with itself\n",
    "    s += s\n",
    "    \n",
    "    # Check if goal is a substring of s\n",
    "    if goal in s:\n",
    "        return True\n",
    "    \n",
    "    return False\n",
    "\n",
    "# Test the function\n",
    "s = \"abcde\"\n",
    "goal = \"cdeab\"\n",
    "print(rotateString(s, goal))\n",
    "# Output: True\n",
    "\n",
    "s = \"abcde\"\n",
    "goal = \"abced\"\n",
    "print(rotateString(s, goal))\n",
    "# Output: False\n"
   ]
  },
  {
   "cell_type": "markdown",
   "id": "9a6925ac-90b7-45d8-b984-84f60e5edf99",
   "metadata": {},
   "source": [
    "<aside>\n",
    "💡 **Question 7**\n",
    "\n",
    "Given two strings s and t, return true *if they are equal when both are typed into empty text editors*. '#' means a backspace character.\n",
    "\n",
    "Note that after backspacing an empty text, the text will continue empty.\n",
    "\n",
    "**Example 1:**\n",
    "\n",
    "**Input:** s = \"ab#c\", t = \"ad#c\"\n",
    "\n",
    "**Output:** true\n",
    "\n",
    "**Explanation:**\n",
    "\n",
    "Both s and t become \"ac\".\n",
    "\n",
    "</aside>"
   ]
  },
  {
   "cell_type": "code",
   "execution_count": 8,
   "id": "06c29385-efca-4a9c-a73b-dec57c95ef56",
   "metadata": {},
   "outputs": [
    {
     "name": "stdout",
     "output_type": "stream",
     "text": [
      "True\n",
      "True\n",
      "True\n",
      "False\n"
     ]
    }
   ],
   "source": [
    "def backspaceCompare(s, t):\n",
    "    # Function to process the string and return the final result\n",
    "    def processString(string):\n",
    "        stack = []\n",
    "        for char in string:\n",
    "            if char == '#':\n",
    "                # If stack is not empty, pop the top element\n",
    "                if stack:\n",
    "                    stack.pop()\n",
    "            else:\n",
    "                stack.append(char)\n",
    "        return \"\".join(stack)\n",
    "\n",
    "    # Process both strings and compare the results\n",
    "    return processString(s) == processString(t)\n",
    "\n",
    "# Test the function\n",
    "s = \"ab#c\"\n",
    "t = \"ad#c\"\n",
    "print(backspaceCompare(s, t))\n",
    "# Output: True\n",
    "\n",
    "s = \"ab##\"\n",
    "t = \"c#d#\"\n",
    "print(backspaceCompare(s, t))\n",
    "# Output: True\n",
    "\n",
    "s = \"a##c\"\n",
    "t = \"#a#c\"\n",
    "print(backspaceCompare(s, t))\n",
    "# Output: True\n",
    "\n",
    "s = \"a#c\"\n",
    "t = \"b\"\n",
    "print(backspaceCompare(s, t))\n",
    "# Output: False\n"
   ]
  },
  {
   "cell_type": "markdown",
   "id": "af299da4-21ce-44d2-8d64-76eec9cf52c4",
   "metadata": {},
   "source": [
    "<aside>\n",
    "💡 **Question 8**\n",
    "\n",
    "You are given an array coordinates, coordinates[i] = [x, y], where [x, y] represents the coordinate of a point. Check if these points make a straight line in the XY plane.\n",
    "\n",
    "**Example 1:**\n",
    "\n",
    "\n",
    "**Input:** coordinates = [[1,2],[2,3],[3,4],[4,5],[5,6],[6,7]]\n",
    "\n",
    "**Output:** true\n",
    "\n",
    "</aside>"
   ]
  },
  {
   "cell_type": "code",
   "execution_count": 9,
   "id": "97166693-1b42-481b-95fe-ce88110d3a6c",
   "metadata": {},
   "outputs": [
    {
     "name": "stdout",
     "output_type": "stream",
     "text": [
      "True\n",
      "False\n"
     ]
    }
   ],
   "source": [
    "def checkStraightLine(coordinates):\n",
    "    # Calculate the slope between two points (x1, y1) and (x2, y2)\n",
    "    def calculateSlope(x1, y1, x2, y2):\n",
    "        if x2 - x1 == 0:\n",
    "            # Handle the case of vertical line\n",
    "            return float('inf')\n",
    "        return (y2 - y1) / (x2 - x1)\n",
    "\n",
    "    # Check if all slopes are equal\n",
    "    x1, y1 = coordinates[0]\n",
    "    x2, y2 = coordinates[1]\n",
    "    reference_slope = calculateSlope(x1, y1, x2, y2)\n",
    "\n",
    "    for i in range(2, len(coordinates)):\n",
    "        x1, y1 = coordinates[i-1]\n",
    "        x2, y2 = coordinates[i]\n",
    "        slope = calculateSlope(x1, y1, x2, y2)\n",
    "        if slope != reference_slope:\n",
    "            return False\n",
    "\n",
    "    return True\n",
    "\n",
    "# Test the function\n",
    "coordinates = [[1,2],[2,3],[3,4],[4,5],[5,6],[6,7]]\n",
    "print(checkStraightLine(coordinates))\n",
    "# Output: True\n",
    "\n",
    "coordinates = [[1,1],[2,2],[3,4],[4,5],[5,6],[7,7]]\n",
    "print(checkStraightLine(coordinates))\n",
    "# Output: False\n"
   ]
  },
  {
   "cell_type": "code",
   "execution_count": null,
   "id": "03c4efd7-ce5d-4026-a5a7-b9645609d0d3",
   "metadata": {},
   "outputs": [],
   "source": []
  }
 ],
 "metadata": {
  "kernelspec": {
   "display_name": "Python 3 (ipykernel)",
   "language": "python",
   "name": "python3"
  },
  "language_info": {
   "codemirror_mode": {
    "name": "ipython",
    "version": 3
   },
   "file_extension": ".py",
   "mimetype": "text/x-python",
   "name": "python",
   "nbconvert_exporter": "python",
   "pygments_lexer": "ipython3",
   "version": "3.10.8"
  }
 },
 "nbformat": 4,
 "nbformat_minor": 5
}
