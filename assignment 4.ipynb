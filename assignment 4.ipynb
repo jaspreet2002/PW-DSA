{
 "cells": [
  {
   "cell_type": "markdown",
   "id": "d3b6960a-88cb-4b7b-853b-3703c19156d5",
   "metadata": {},
   "source": [
    "<aside>\n",
    "💡 **Question 1**\n",
    "Given three integer arrays arr1, arr2 and arr3 **sorted** in **strictly increasing** order, return a sorted array of **only** the integers that appeared in **all** three arrays.\n",
    "\n",
    "**Example 1:**\n",
    "\n",
    "Input: arr1 = [1,2,3,4,5], arr2 = [1,2,5,7,9], arr3 = [1,3,4,5,8]\n",
    "\n",
    "Output: [1,5]\n",
    "\n",
    "**Explanation:** Only 1 and 5 appeared in the three arrays.\n",
    "\n",
    "</aside>"
   ]
  },
  {
   "cell_type": "code",
   "execution_count": 1,
   "id": "2c698ab4-e679-4138-854b-ecfa82582150",
   "metadata": {},
   "outputs": [
    {
     "name": "stdout",
     "output_type": "stream",
     "text": [
      "[1, 5]\n"
     ]
    }
   ],
   "source": [
    "def arraysIntersection(arr1, arr2, arr3):\n",
    "    ptr1, ptr2, ptr3 = 0, 0, 0  # Initialize three pointers for arr1, arr2, arr3\n",
    "    result = []  # Initialize an empty result list\n",
    "\n",
    "    # Iterate until any of the pointers reaches the end of its respective array\n",
    "    while ptr1 < len(arr1) and ptr2 < len(arr2) and ptr3 < len(arr3):\n",
    "        if arr1[ptr1] == arr2[ptr2] == arr3[ptr3]:\n",
    "            # If all three pointers point to the same value, it's a common element\n",
    "            result.append(arr1[ptr1])  # Add the common element to the result list\n",
    "            ptr1 += 1  # Increment all three pointers\n",
    "            ptr2 += 1\n",
    "            ptr3 += 1\n",
    "        elif arr1[ptr1] < arr2[ptr2] or arr1[ptr1] < arr3[ptr3]:\n",
    "            # If arr1[ptr1] is smaller than the other two pointers, increment ptr1\n",
    "            ptr1 += 1\n",
    "        elif arr2[ptr2] < arr1[ptr1] or arr2[ptr2] < arr3[ptr3]:\n",
    "            # If arr2[ptr2] is smaller than the other two pointers, increment ptr2\n",
    "            ptr2 += 1\n",
    "        else:\n",
    "            # If arr3[ptr3] is smaller than the other two pointers, increment ptr3\n",
    "            ptr3 += 1\n",
    "\n",
    "    return result  # Return the result list\n",
    "\n",
    "# Test the function\n",
    "arr1 = [1, 2, 3, 4, 5]\n",
    "arr2 = [1, 2, 5, 7, 9]\n",
    "arr3 = [1, 3, 4, 5, 8]\n",
    "result = arraysIntersection(arr1, arr2, arr3)\n",
    "print(result)  # Output: [1, 5]\n"
   ]
  },
  {
   "cell_type": "markdown",
   "id": "68a43f69-32c7-4b0e-ac75-38d478b5319a",
   "metadata": {},
   "source": [
    "<aside>\n",
    "💡 **Question 2**\n",
    "\n",
    "Given two **0-indexed** integer arrays nums1 and nums2, return *a list* answer *of size* 2 *where:*\n",
    "\n",
    "- answer[0] *is a list of all **distinct** integers in* nums1 *which are **not** present in* nums2*.*\n",
    "- answer[1] *is a list of all **distinct** integers in* nums2 *which are **not** present in* nums1.\n",
    "\n",
    "**Note** that the integers in the lists may be returned in **any** order.\n",
    "\n",
    "**Example 1:**\n",
    "\n",
    "**Input:** nums1 = [1,2,3], nums2 = [2,4,6]\n",
    "\n",
    "**Output:** [[1,3],[4,6]]\n",
    "\n",
    "**Explanation:**\n",
    "\n",
    "For nums1, nums1[1] = 2 is present at index 0 of nums2, whereas nums1[0] = 1 and nums1[2] = 3 are not present in nums2. Therefore, answer[0] = [1,3].\n",
    "\n",
    "For nums2, nums2[0] = 2 is present at index 1 of nums1, whereas nums2[1] = 4 and nums2[2] = 6 are not present in nums2. Therefore, answer[1] = [4,6].\n",
    "\n",
    "</aside>"
   ]
  },
  {
   "cell_type": "code",
   "execution_count": 2,
   "id": "ef7ad69f-82b5-48a5-9c86-dd905d357234",
   "metadata": {},
   "outputs": [
    {
     "name": "stdout",
     "output_type": "stream",
     "text": [
      "[[1, 3], [4, 6]]\n"
     ]
    }
   ],
   "source": [
    "def findDisappearedNumbers(nums1, nums2):\n",
    "    distinct_nums1 = set(nums1)  # Set to store distinct elements from nums1\n",
    "    distinct_nums2 = set(nums2)  # Set to store distinct elements from nums2\n",
    "\n",
    "    # Find the elements present in nums1 but not in nums2\n",
    "    missing_nums1 = list(distinct_nums1 - distinct_nums2)\n",
    "\n",
    "    # Find the elements present in nums2 but not in nums1\n",
    "    missing_nums2 = list(distinct_nums2 - distinct_nums1)\n",
    "\n",
    "    return [missing_nums1, missing_nums2]  # Return the list of missing elements\n",
    "\n",
    "# Test the function\n",
    "nums1 = [1, 2, 3]\n",
    "nums2 = [2, 4, 6]\n",
    "result = findDisappearedNumbers(nums1, nums2)\n",
    "print(result)  # Output: [[1, 3], [4, 6]]\n"
   ]
  },
  {
   "cell_type": "markdown",
   "id": "0dcb422b-0c92-4a42-9e00-2c471a510231",
   "metadata": {},
   "source": [
    "<aside>\n",
    "💡 **Question 3**\n",
    "Given a 2D integer array matrix, return *the **transpose** of* matrix.\n",
    "\n",
    "The **transpose** of a matrix is the matrix flipped over its main diagonal, switching the matrix's row and column indices.\n",
    "\n",
    "**Example 1:**\n",
    "\n",
    "Input: matrix = [[1,2,3],[4,5,6],[7,8,9]]\n",
    "\n",
    "Output: [[1,4,7],[2,5,8],[3,6,9]]\n",
    "\n",
    "</aside>"
   ]
  },
  {
   "cell_type": "code",
   "execution_count": 3,
   "id": "b6540caa-9db7-4f41-abc9-510d4840431b",
   "metadata": {},
   "outputs": [
    {
     "name": "stdout",
     "output_type": "stream",
     "text": [
      "[[1, 4, 7], [2, 5, 8], [3, 6, 9]]\n"
     ]
    }
   ],
   "source": [
    "def transpose(matrix):\n",
    "    rows = len(matrix)  # Number of rows in the matrix\n",
    "    cols = len(matrix[0])  # Number of columns in the matrix\n",
    "\n",
    "    # Iterate through the matrix and swap elements along the main diagonal\n",
    "    for i in range(rows):\n",
    "        for j in range(i + 1, cols):\n",
    "            matrix[i][j], matrix[j][i] = matrix[j][i], matrix[i][j]\n",
    "\n",
    "    return matrix  # Return the transposed matrix\n",
    "\n",
    "# Test the function\n",
    "matrix = [[1, 2, 3], [4, 5, 6], [7, 8, 9]]\n",
    "result = transpose(matrix)\n",
    "print(result)  # Output: [[1, 4, 7], [2, 5, 8], [3, 6, 9]]\n"
   ]
  },
  {
   "cell_type": "markdown",
   "id": "2d2d5e2e-f581-4668-9249-722834eae07e",
   "metadata": {},
   "source": [
    "<aside>\n",
    "💡 **Question 4**\n",
    "Given an integer array nums of 2n integers, group these integers into n pairs (a1, b1), (a2, b2), ..., (an, bn) such that the sum of min(ai, bi) for all i is **maximized**. Return *the maximized sum*.\n",
    "\n",
    "**Example 1:**\n",
    "\n",
    "Input: nums = [1,4,3,2]\n",
    "\n",
    "Output: 4\n",
    "\n",
    "**Explanation:** All possible pairings (ignoring the ordering of elements) are:\n",
    "\n",
    "1. (1, 4), (2, 3) -> min(1, 4) + min(2, 3) = 1 + 2 = 3\n",
    "\n",
    "2. (1, 3), (2, 4) -> min(1, 3) + min(2, 4) = 1 + 2 = 3\n",
    "\n",
    "3. (1, 2), (3, 4) -> min(1, 2) + min(3, 4) = 1 + 3 = 4\n",
    "\n",
    "So the maximum possible sum is 4.\n",
    "\n",
    "</aside>"
   ]
  },
  {
   "cell_type": "code",
   "execution_count": 4,
   "id": "20be84ec-4e67-4aec-b9a3-d2f115958e35",
   "metadata": {},
   "outputs": [
    {
     "name": "stdout",
     "output_type": "stream",
     "text": [
      "4\n"
     ]
    }
   ],
   "source": [
    "def arrayPairSum(nums):\n",
    "    nums.sort()  # Sort the array in ascending order\n",
    "    max_sum = 0\n",
    "\n",
    "    # Iterate through the sorted array and add the minimum element of each pair to the max_sum\n",
    "    for i in range(0, len(nums), 2):\n",
    "        max_sum += nums[i]\n",
    "\n",
    "    return max_sum\n",
    "\n",
    "# Test the function\n",
    "nums = [1, 4, 3, 2]\n",
    "result = arrayPairSum(nums)\n",
    "print(result)  # Output: 4\n"
   ]
  },
  {
   "cell_type": "markdown",
   "id": "777aa425-4d9b-4c3d-988f-8b2a77ef965d",
   "metadata": {},
   "source": [
    "<aside>\n",
    "💡 **Question 5**\n",
    "You have n coins and you want to build a staircase with these coins. The staircase consists of k rows where the ith row has exactly i coins. The last row of the staircase **may be** incomplete.\n",
    "\n",
    "Given the integer n, return *the number of **complete rows** of the staircase you will build*.\n",
    "\n",
    "**Example 1:**\n",
    "\n",
    "[]()\n",
    "\n",
    "![v2.jpg](https://s3-us-west-2.amazonaws.com/secure.notion-static.com/4bd91cfa-d2b1-47b3-8197-a72e8dcfff4b/v2.jpg)\n",
    "\n",
    "**Input:** n = 5\n",
    "\n",
    "**Output:** 2\n",
    "\n",
    "**Explanation:** Because the 3rd row is incomplete, we return 2.\n",
    "\n",
    "</aside>"
   ]
  },
  {
   "cell_type": "code",
   "execution_count": 5,
   "id": "9046b18b-d6f6-4f5e-8792-097144d5f49a",
   "metadata": {},
   "outputs": [
    {
     "name": "stdout",
     "output_type": "stream",
     "text": [
      "2\n"
     ]
    }
   ],
   "source": [
    "def arrangeCoins(n):\n",
    "    row = 1  # Initialize the row number to 1\n",
    "    count = 0  # Initialize the count of complete rows to 0\n",
    "\n",
    "    while n >= row:\n",
    "        n -= row  # Subtract the number of coins in the current row from n\n",
    "        count += 1  # Increment the count of complete rows\n",
    "        row += 1  # Move to the next row\n",
    "\n",
    "    return count\n",
    "\n",
    "# Test the function\n",
    "n = 5\n",
    "result = arrangeCoins(n)\n",
    "print(result)  # Output: 2\n"
   ]
  },
  {
   "cell_type": "markdown",
   "id": "5ac5ef8d-da77-4521-879f-c575df854d24",
   "metadata": {},
   "source": [
    "<aside>\n",
    "💡 **Question 6**\n",
    "Given an integer array nums sorted in **non-decreasing** order, return *an array of **the squares of each number** sorted in non-decreasing order*.\n",
    "\n",
    "**Example 1:**\n",
    "\n",
    "Input: nums = [-4,-1,0,3,10]\n",
    "\n",
    "Output: [0,1,9,16,100]\n",
    "\n",
    "**Explanation:** After squaring, the array becomes [16,1,0,9,100].\n",
    "After sorting, it becomes [0,1,9,16,100]\n",
    "\n",
    "</aside>"
   ]
  },
  {
   "cell_type": "code",
   "execution_count": 6,
   "id": "f30ceaa3-af09-4f9d-a7a5-ed6295adc8fe",
   "metadata": {},
   "outputs": [
    {
     "name": "stdout",
     "output_type": "stream",
     "text": [
      "[0, 1, 9, 16, 100]\n"
     ]
    }
   ],
   "source": [
    "def sortedSquares(nums):\n",
    "    n = len(nums)\n",
    "    result = [0] * n  # Initialize the result array with zeros\n",
    "    left = 0  # Pointer to the start of the array\n",
    "    right = n - 1  # Pointer to the end of the array\n",
    "    index = n - 1  # Index to fill the result array from the end\n",
    "\n",
    "    while left <= right:\n",
    "        if abs(nums[left]) >= abs(nums[right]):\n",
    "            result[index] = nums[left] ** 2\n",
    "            left += 1\n",
    "        else:\n",
    "            result[index] = nums[right] ** 2\n",
    "            right -= 1\n",
    "        index -= 1\n",
    "\n",
    "    return result\n",
    "\n",
    "# Test the function\n",
    "nums = [-4, -1, 0, 3, 10]\n",
    "result = sortedSquares(nums)\n",
    "print(result)  # Output: [0, 1, 9, 16, 100]\n"
   ]
  },
  {
   "cell_type": "markdown",
   "id": "5378b57a-c5aa-473d-b243-fd78ce0e2c05",
   "metadata": {},
   "source": [
    "<aside>\n",
    "💡 **Question 7**\n",
    "You are given an m x n matrix M initialized with all 0's and an array of operations ops, where ops[i] = [ai, bi] means M[x][y] should be incremented by one for all 0 <= x < ai and 0 <= y < bi.\n",
    "\n",
    "Count and return *the number of maximum integers in the matrix after performing all the operations*\n",
    "\n",
    "**Example 1:**\n",
    "\n",
    "![q4.jpg](https://s3-us-west-2.amazonaws.com/secure.notion-static.com/4d0890d0-7bc7-4f59-be8e-352d9f3c1c52/q4.jpg)\n",
    "\n",
    "**Input:** m = 3, n = 3, ops = [[2,2],[3,3]]\n",
    "\n",
    "**Output:** 4\n",
    "\n",
    "**Explanation:** The maximum integer in M is 2, and there are four of it in M. So return 4.\n",
    "\n",
    "</aside>"
   ]
  },
  {
   "cell_type": "code",
   "execution_count": 7,
   "id": "263d4aae-8753-41d8-bfdc-12fa3b7ae705",
   "metadata": {},
   "outputs": [
    {
     "name": "stdout",
     "output_type": "stream",
     "text": [
      "4\n"
     ]
    }
   ],
   "source": [
    "def maxCount(m, n, ops):\n",
    "    min_row = m  # Initialize min_row with maximum possible value\n",
    "    min_col = n  # Initialize min_col with maximum possible value\n",
    "\n",
    "    for op in ops:\n",
    "        min_row = min(min_row, op[0])  # Update min_row with minimum value\n",
    "        min_col = min(min_col, op[1])  # Update min_col with minimum value\n",
    "\n",
    "    max_integers = min_row * min_col  # Calculate the total number of maximum integers\n",
    "\n",
    "    return max_integers\n",
    "\n",
    "# Test the function\n",
    "m = 3\n",
    "n = 3\n",
    "ops = [[2, 2], [3, 3]]\n",
    "result = maxCount(m, n, ops)\n",
    "print(result)  # Output: 4\n"
   ]
  },
  {
   "cell_type": "markdown",
   "id": "2f7c7c38-fabc-4c06-b85f-9691cda22725",
   "metadata": {},
   "source": [
    "<aside>\n",
    "💡 **Question 8**\n",
    "\n",
    "Given the array nums consisting of 2n elements in the form [x1,x2,...,xn,y1,y2,...,yn].\n",
    "\n",
    "*Return the array in the form* [x1,y1,x2,y2,...,xn,yn].\n",
    "\n",
    "**Example 1:**\n",
    "\n",
    "**Input:** nums = [2,5,1,3,4,7], n = 3\n",
    "\n",
    "**Output:** [2,3,5,4,1,7]\n",
    "\n",
    "**Explanation:** Since x1=2, x2=5, x3=1, y1=3, y2=4, y3=7 then the answer is [2,3,5,4,1,7].\n",
    "\n",
    "</aside>"
   ]
  },
  {
   "cell_type": "code",
   "execution_count": null,
   "id": "69754292-1289-4119-94a3-ff25faed2a34",
   "metadata": {},
   "outputs": [],
   "source": []
  }
 ],
 "metadata": {
  "kernelspec": {
   "display_name": "Python 3 (ipykernel)",
   "language": "python",
   "name": "python3"
  },
  "language_info": {
   "codemirror_mode": {
    "name": "ipython",
    "version": 3
   },
   "file_extension": ".py",
   "mimetype": "text/x-python",
   "name": "python",
   "nbconvert_exporter": "python",
   "pygments_lexer": "ipython3",
   "version": "3.10.8"
  }
 },
 "nbformat": 4,
 "nbformat_minor": 5
}
