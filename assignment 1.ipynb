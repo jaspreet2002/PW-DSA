{
 "cells": [
  {
   "cell_type": "markdown",
   "id": "1fae60e1-66ba-4aab-a769-08131a9e1130",
   "metadata": {},
   "source": [
    "<aside>\n",
    "💡 **Q1.** Given an array of integers nums and an integer target, return indices of the two numbers such that they add up to target.\n",
    "\n",
    "You may assume that each input would have exactly one solution, and you may not use the same element twice.\n",
    "\n",
    "You can return the answer in any order.\n",
    "\n",
    "**Example:**\n",
    "Input: nums = [2,7,11,15], target = 9\n",
    "Output0 [0,1]\n",
    "\n",
    "**Explanation:** Because nums[0] + nums[1] == 9, we return [0, 1][\n",
    "\n",
    "</aside>"
   ]
  },
  {
   "cell_type": "code",
   "execution_count": 18,
   "id": "901115a7-f555-42d2-a620-b30ba49ec8ed",
   "metadata": {},
   "outputs": [],
   "source": [
    "def twoSum(nums, target):\n",
    "    #we create two pointers left and right \n",
    "    #left points to the first element of the array\n",
    "    #right points to the last element of the array\n",
    "    left = 0\n",
    "    right = len(nums) - 1\n",
    "    \n",
    "    while left < right:\n",
    "        #current sum is the sum of the values of the array pointed by left and right\n",
    "        current_sum = nums[left] + nums[right]\n",
    "        \n",
    "        #if the sum is less then the target we increment left\n",
    "        #since the array is sorted, the next sum will be closer to target\n",
    "        #in similar fashion we decrement right if the sum is more then the target\n",
    "        #if the sum is equal to target, we return the indices\n",
    "        if current_sum == target:\n",
    "            return [left, right]\n",
    "        elif current_sum < target:\n",
    "            left += 1\n",
    "        else:\n",
    "            right -= 1\n",
    "    \n",
    "    # No valid solution found\n",
    "    return []\n"
   ]
  },
  {
   "cell_type": "code",
   "execution_count": 19,
   "id": "d2a24288-a5ad-4d1d-8ed1-4e0e0aaebb17",
   "metadata": {},
   "outputs": [
    {
     "data": {
      "text/plain": [
       "[0, 1]"
      ]
     },
     "execution_count": 19,
     "metadata": {},
     "output_type": "execute_result"
    }
   ],
   "source": [
    "nums = [2, 7, 11, 15]\n",
    "target = 9\n",
    "twoSum(nums, target)"
   ]
  },
  {
   "cell_type": "markdown",
   "id": "931a47a5-9cdc-4484-a4b4-fdfbdde37a17",
   "metadata": {},
   "source": [
    "<aside>\n",
    "💡 **Q2.** Given an integer array nums and an integer val, remove all occurrences of val in nums in-place. The order of the elements may be changed. Then return the number of elements in nums which are not equal to val.\n",
    "\n",
    "Consider the number of elements in nums which are not equal to val be k, to get accepted, you need to do the following things:\n",
    "\n",
    "- Change the array nums such that the first k elements of nums contain the elements which are not equal to val. The remaining elements of nums are not important as well as the size of nums.\n",
    "- Return k.\n",
    "\n",
    "**Example :**\n",
    "Input: nums = [3,2,2,3], val = 3\n",
    "Output: 2, nums = [2,2,_*,_*]\n",
    "\n",
    "**Explanation:** Your function should return k = 2, with the first two elements of nums being 2. It does not matter what you leave beyond the returned k (hence they are underscores)[\n",
    "\n",
    "</aside>"
   ]
  },
  {
   "cell_type": "code",
   "execution_count": 20,
   "id": "ced2c272-77d3-4bde-af72-4a058550bd73",
   "metadata": {},
   "outputs": [],
   "source": [
    "def removeElement(nums, val):\n",
    "    #we initialized two pointers left and right\n",
    "    #right points to the end of the array\n",
    "    #left points to the right of the array\n",
    "    left = 0\n",
    "    right = len(nums) - 1\n",
    "    \n",
    "    while left <= right:\n",
    "        #If the element at the left pointer is equal to val, swap it with the element at the right pointer and decrement the right pointer\n",
    "        if nums[left] == val:\n",
    "            nums[left], nums[right] = nums[right], nums[left]\n",
    "            right -= 1\n",
    "        #If the element at the left pointer is not equal to val, increment the left pointer\n",
    "        else:\n",
    "            left += 1\n",
    "    \n",
    "    return left, nums\n"
   ]
  },
  {
   "cell_type": "code",
   "execution_count": 21,
   "id": "f6fff20a-b162-4ecb-98bb-833694e34f19",
   "metadata": {},
   "outputs": [
    {
     "data": {
      "text/plain": [
       "(4, [5, 2, 4, 2, 3, 3, 3])"
      ]
     },
     "execution_count": 21,
     "metadata": {},
     "output_type": "execute_result"
    }
   ],
   "source": [
    "nums = [3, 2, 3, 2, 3, 4, 5]\n",
    "val = 3\n",
    "removeElement(nums, val)"
   ]
  },
  {
   "cell_type": "markdown",
   "id": "6f8e63f9-6f1d-44f7-b183-a133b51e23ee",
   "metadata": {},
   "source": [
    "<aside>\n",
    "💡 **Q3.** Given a sorted array of distinct integers and a target value, return the index if the target is found. If not, return the index where it would be if it were inserted in order.\n",
    "\n",
    "You must write an algorithm with O(log n) runtime complexity.\n",
    "\n",
    "**Example 1:**\n",
    "Input: nums = [1,3,5,6], target = 5\n",
    "\n",
    "Output: 2\n",
    "\n",
    "</aside>"
   ]
  },
  {
   "cell_type": "code",
   "execution_count": 22,
   "id": "a456996d-26c6-4c3a-99ef-d2944871f58c",
   "metadata": {},
   "outputs": [],
   "source": [
    "#we use binary search\n",
    "def searchInsert(nums, target):\n",
    "    #we initialized two pointers left and right\n",
    "    #right points to the end of the array\n",
    "    #left points to the right of the array\n",
    "    left = 0\n",
    "    right = len(nums) - 1\n",
    "    \n",
    "    while left <= right:\n",
    "        #calculate the mid\n",
    "        mid = (left + right) // 2\n",
    "        \n",
    "        #if the element at the mid index is equal to the target we return the mid index\n",
    "        if nums[mid] == target:\n",
    "            return mid\n",
    "        #if the element at mid is less then the target, we relocate left to mid + 1\n",
    "        elif nums[mid] < target:\n",
    "            left = mid + 1\n",
    "        #if the element at mid is grater then the target, we relocate right to mid - 1\n",
    "        else:\n",
    "            right = mid - 1\n",
    "    \n",
    "    #if the element is not in the array, left will point the index at which the target should be inserted\n",
    "    return left\n"
   ]
  },
  {
   "cell_type": "code",
   "execution_count": 23,
   "id": "288154ca-9a7e-46ba-ae6a-083c9b5c39f9",
   "metadata": {},
   "outputs": [
    {
     "data": {
      "text/plain": [
       "2"
      ]
     },
     "execution_count": 23,
     "metadata": {},
     "output_type": "execute_result"
    }
   ],
   "source": [
    "nums = [1, 3, 5, 6]\n",
    "target = 5\n",
    "searchInsert(nums, target)"
   ]
  },
  {
   "cell_type": "markdown",
   "id": "9a693dc5-f71e-4d8d-a10d-a4d0464484dc",
   "metadata": {},
   "source": [
    "<aside>\n",
    "💡 **Q4.** You are given a large integer represented as an integer array digits, where each digits[i] is the ith digit of the integer. The digits are ordered from most significant to least significant in left-to-right order. The large integer does not contain any leading 0's.\n",
    "\n",
    "Increment the large integer by one and return the resulting array of digits.\n",
    "\n",
    "**Example 1:**\n",
    "Input: digits = [1,2,3]\n",
    "Output: [1,2,4]\n",
    "\n",
    "**Explanation:** The array represents the integer 123.\n",
    "\n",
    "Incrementing by one gives 123 + 1 = 124.\n",
    "Thus, the result should be [1,2,4].\n",
    "\n",
    "</aside>"
   ]
  },
  {
   "cell_type": "code",
   "execution_count": 24,
   "id": "b52b29d0-ad40-49c9-a85a-66bc0b240b8e",
   "metadata": {},
   "outputs": [],
   "source": [
    "def plusOne(digits):\n",
    "    # Initialize carry to 1 for the increment\n",
    "    carry = 1\n",
    "    \n",
    "    # Iterate from rightmost digit to leftmost digit\n",
    "    for i in range(len(digits)-1, -1, -1):\n",
    "        # Add the carry to the current digit\n",
    "        digits[i] += carry\n",
    "        \n",
    "        # If the sum is less than 10, return the digits array\n",
    "        if digits[i] < 10:\n",
    "            return digits\n",
    "        \n",
    "        # If the sum is 10, set current digit to 0 and continue to the next digit\n",
    "        digits[i] = 0\n",
    "        \n",
    "    # If the first digit is 0, it means all previous digits resulted in a carry\n",
    "    if digits[0] == 0:\n",
    "        # Insert a new digit of 1 at the beginning\n",
    "        digits.insert(0, 1)\n",
    "\n",
    "    \n",
    "    return digits\n"
   ]
  },
  {
   "cell_type": "code",
   "execution_count": 25,
   "id": "dcffa6e8-4750-4535-b254-5100508eb1c7",
   "metadata": {},
   "outputs": [
    {
     "data": {
      "text/plain": [
       "[1, 2, 4]"
      ]
     },
     "execution_count": 25,
     "metadata": {},
     "output_type": "execute_result"
    }
   ],
   "source": [
    "digits = [1, 2, 3]\n",
    "plusOne(digits)"
   ]
  },
  {
   "cell_type": "markdown",
   "id": "100e5408-3259-48cc-90ac-378ace8949b2",
   "metadata": {},
   "source": [
    "<aside>\n",
    "💡 **Q5.** You are given two integer arrays nums1 and nums2, sorted in non-decreasing order, and two integers m and n, representing the number of elements in nums1 and nums2 respectively.\n",
    "\n",
    "Merge nums1 and nums2 into a single array sorted in non-decreasing order.\n",
    "\n",
    "The final sorted array should not be returned by the function, but instead be stored inside the array nums1. To accommodate this, nums1 has a length of m + n, where the first m elements denote the elements that should be merged, and the last n elements are set to 0 and should be ignored. nums2 has a length of n.\n",
    "\n",
    "**Example 1:**\n",
    "Input: nums1 = [1,2,3,0,0,0], m = 3, nums2 = [2,5,6], n = 3\n",
    "Output: [1,2,2,3,5,6]\n",
    "\n",
    "**Explanation:** The arrays we are merging are [1,2,3] and [2,5,6].\n",
    "The result of the merge is [1,2,2,3,5,6] with the underlined elements coming from nums1.\n",
    "\n",
    "</aside>"
   ]
  },
  {
   "cell_type": "code",
   "execution_count": 26,
   "id": "2759b756-2344-4050-b262-a57cd44bd495",
   "metadata": {},
   "outputs": [],
   "source": [
    "def merge(nums1, m, nums2, n):\n",
    "    # Initialize pointers\n",
    "    p1 = m - 1  # Pointer for nums1\n",
    "    p2 = n - 1  # Pointer for nums2\n",
    "    p = m + n - 1  # Pointer for merged array nums1\n",
    "    \n",
    "    # Merge nums1 and nums2 in non-decreasing order\n",
    "    while p1 >= 0 and p2 >= 0:\n",
    "        if nums1[p1] >= nums2[p2]:\n",
    "            # Copy the greater element from nums1 to the current position in nums1\n",
    "            nums1[p] = nums1[p1]\n",
    "            p1 -= 1\n",
    "        else:\n",
    "            # Copy the greater element from nums2 to the current position in nums1\n",
    "            nums1[p] = nums2[p2]\n",
    "            p2 -= 1\n",
    "        p -= 1\n",
    "    \n",
    "    # Copy remaining elements from nums2 to nums1, if any\n",
    "    nums1[:p2 + 1] = nums2[:p2 + 1]\n",
    "    \n",
    "    return nums1\n"
   ]
  },
  {
   "cell_type": "code",
   "execution_count": 27,
   "id": "9244994b-ceae-4305-b678-637c6678bc27",
   "metadata": {},
   "outputs": [
    {
     "data": {
      "text/plain": [
       "[1, 2, 2, 3, 5, 6]"
      ]
     },
     "execution_count": 27,
     "metadata": {},
     "output_type": "execute_result"
    }
   ],
   "source": [
    "nums1 = [1, 2, 3, 0, 0, 0]\n",
    "m = 3\n",
    "nums2 = [2, 5, 6]\n",
    "n = 3\n",
    "merge(nums1, m, nums2, n)"
   ]
  },
  {
   "cell_type": "markdown",
   "id": "7b421749-0494-45e7-9551-502c3e08d05d",
   "metadata": {},
   "source": [
    "<aside>\n",
    "💡 **Q6.** Given an integer array nums, return true if any value appears at least twice in the array, and return false if every element is distinct.\n",
    "\n",
    "**Example 1:**\n",
    "Input: nums = [1,2,3,1]\n",
    "\n",
    "Output: true\n",
    "\n",
    "</aside>"
   ]
  },
  {
   "cell_type": "code",
   "execution_count": 28,
   "id": "3a24c8a2-31f6-4950-a5e6-5011a3a3814b",
   "metadata": {},
   "outputs": [],
   "source": [
    "def containsDuplicate(nums):\n",
    "    # Create an empty set to store unique elements\n",
    "    unique_elements = set()\n",
    "    \n",
    "    for num in nums:\n",
    "        if num in unique_elements:\n",
    "            return True  # Found a duplicate element\n",
    "        else:\n",
    "            unique_elements.add(num)  # Add the element to the set\n",
    "    \n",
    "    return False  # No duplicates found\n"
   ]
  },
  {
   "cell_type": "code",
   "execution_count": 29,
   "id": "9a7e1940-2319-4408-96ac-51e0cf0a32a0",
   "metadata": {},
   "outputs": [
    {
     "data": {
      "text/plain": [
       "True"
      ]
     },
     "execution_count": 29,
     "metadata": {},
     "output_type": "execute_result"
    }
   ],
   "source": [
    "nums = [1, 2, 3, 1]\n",
    "containsDuplicate(nums)"
   ]
  },
  {
   "cell_type": "markdown",
   "id": "5c841be5-a28b-4610-9c96-edcb59dd259a",
   "metadata": {},
   "source": [
    "<aside>\n",
    "💡 **Q7.** Given an integer array nums, move all 0's to the end of it while maintaining the relative order of the nonzero elements.\n",
    "\n",
    "Note that you must do this in-place without making a copy of the array.\n",
    "\n",
    "**Example 1:**\n",
    "Input: nums = [0,1,0,3,12]\n",
    "Output: [1,3,12,0,0]\n",
    "\n",
    "</aside>"
   ]
  },
  {
   "cell_type": "code",
   "execution_count": 34,
   "id": "0936567c-3894-433f-85fc-28a34b9e1e4b",
   "metadata": {},
   "outputs": [],
   "source": [
    "def moveZeroes(nums):\n",
    "    left = 0  # Left pointer\n",
    "\n",
    "    for i in range(len(nums)):\n",
    "        if nums[i] != 0:\n",
    "            nums[left] = nums[i]  # Overwrite the leftmost 0 with a nonzero element\n",
    "            left += 1  # Increment the left pointer\n",
    "\n",
    "    # Fill the remaining elements with 0\n",
    "    for i in range(left, len(nums)):\n",
    "        nums[i] = 0\n",
    "    \n",
    "    return nums\n"
   ]
  },
  {
   "cell_type": "code",
   "execution_count": 35,
   "id": "8f184d21-4e83-4030-a765-88b48c6d2774",
   "metadata": {},
   "outputs": [
    {
     "data": {
      "text/plain": [
       "[1, 3, 12, 0, 0]"
      ]
     },
     "execution_count": 35,
     "metadata": {},
     "output_type": "execute_result"
    }
   ],
   "source": [
    "nums = [0, 1, 0, 3, 12]\n",
    "moveZeroes(nums)"
   ]
  },
  {
   "cell_type": "markdown",
   "id": "03a61a17-0ba4-481b-9d26-f9286414faec",
   "metadata": {},
   "source": [
    "<aside>\n",
    "💡 **Q8.** You have a set of integers s, which originally contains all the numbers from 1 to n. Unfortunately, due to some error, one of the numbers in s got duplicated to another number in the set, which results in repetition of one number and loss of another number.\n",
    "\n",
    "You are given an integer array nums representing the data status of this set after the error.\n",
    "\n",
    "Find the number that occurs twice and the number that is missing and return them in the form of an array.\n",
    "\n",
    "**Example 1:**\n",
    "Input: nums = [1,2,2,4]\n",
    "Output: [2,3]\n",
    "\n",
    "</aside>"
   ]
  },
  {
   "cell_type": "code",
   "execution_count": 36,
   "id": "84e4786b-810a-467e-b837-e09229d23506",
   "metadata": {},
   "outputs": [],
   "source": [
    "def findErrorNums(nums):\n",
    "    #we initialize a net set to store the unique elements in the given array\n",
    "    n = len(nums)\n",
    "    num_set = set()\n",
    "    duplicate = -1\n",
    "    \n",
    "    # Find the duplicate number\n",
    "    for num in nums:\n",
    "        # if the num already exist in num_set, its the duplizate we are looking for, therefore we update the value of duplizate to num\n",
    "        if num in num_set:\n",
    "            duplicate = num\n",
    "        # if the num dont already exist in the set, we add it to the set\n",
    "        else:\n",
    "            num_set.add(num)\n",
    "    \n",
    "    # Find the missing number\n",
    "    #Determine the missing number by finding the difference between the expected sum of numbers from 1 to n and the sum of unique elements in the nums array.\n",
    "    missing = sum(range(1, n+1)) - sum(nums) + duplicate\n",
    "    \n",
    "    return [duplicate, missing]\n"
   ]
  },
  {
   "cell_type": "code",
   "execution_count": 37,
   "id": "c9b78a81-7ba7-405f-916f-5b96ab9b67b2",
   "metadata": {},
   "outputs": [
    {
     "data": {
      "text/plain": [
       "[2, 3]"
      ]
     },
     "execution_count": 37,
     "metadata": {},
     "output_type": "execute_result"
    }
   ],
   "source": [
    "nums = [1, 2, 2, 4]\n",
    "findErrorNums(nums)"
   ]
  },
  {
   "cell_type": "code",
   "execution_count": null,
   "id": "1e680fa6-18bd-414b-8bd5-71184fd6c843",
   "metadata": {},
   "outputs": [],
   "source": []
  }
 ],
 "metadata": {
  "kernelspec": {
   "display_name": "Python 3 (ipykernel)",
   "language": "python",
   "name": "python3"
  },
  "language_info": {
   "codemirror_mode": {
    "name": "ipython",
    "version": 3
   },
   "file_extension": ".py",
   "mimetype": "text/x-python",
   "name": "python",
   "nbconvert_exporter": "python",
   "pygments_lexer": "ipython3",
   "version": "3.10.8"
  }
 },
 "nbformat": 4,
 "nbformat_minor": 5
}
