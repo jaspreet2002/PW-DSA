{
 "cells": [
  {
   "cell_type": "markdown",
   "id": "e9576ae4-3cff-459a-87b1-a9f0f5b0f1fa",
   "metadata": {},
   "source": [
    "Given a 1-indexed array of integers numbers that are already sorted in non-decreasing order, find two numbers such that they add up to a specific target number. Let these two numbers be numbers[index1] and numbers[index2] where 1 <= index1 < index2 < numbers.length.\n",
    "Return the indices of the two numbers, index1, and index2, added by one as an integer array [index1, index2] of length 2.\n",
    "The tests are generated such that there is exactly one solution. You may not use the same element twice.\n",
    "Your solution must use only constant extra space.\n",
    "Input: numbers = [2,7,11,15], target = 9\n",
    "Output: [1,2]\n",
    "Explanation: The sum of 2 and 7 is 9. Therefore, index1 = 1, index2 = 2. We return [1, 2]."
   ]
  },
  {
   "cell_type": "code",
   "execution_count": 1,
   "id": "f87721de-443c-4989-8cd3-f081c0eb497f",
   "metadata": {},
   "outputs": [
    {
     "name": "stdout",
     "output_type": "stream",
     "text": [
      "[1, 2]\n"
     ]
    }
   ],
   "source": [
    "#1. Two Sum\n",
    "def twoSum(nums, target):\n",
    "    left, right = 0, len(nums) - 1\n",
    "    while left < right:\n",
    "        curr_sum = nums[left] + nums[right]\n",
    "        if curr_sum == target:\n",
    "            return [left+1, right+1]\n",
    "        elif curr_sum < target:\n",
    "            left += 1\n",
    "        else:\n",
    "            right -= 1\n",
    "\n",
    "# Test \n",
    "nums = [2,7,11,15]\n",
    "target = 9\n",
    "print(twoSum(nums, target))"
   ]
  },
  {
   "cell_type": "markdown",
   "id": "f9729b5c-57d6-450b-a5cc-3437a1a030bc",
   "metadata": {},
   "source": [
    "Given an array of integer nums sorted in non-decreasing order, find the starting and ending position of a given target value.\n",
    "If the target is not found in the array, return [-1, -1].\n",
    "You must write an algorithm with O(log n) runtime complexity\n",
    "Input: nums = [5,7,7,8,8,10], target = 8\n",
    "Output: [3,4]"
   ]
  },
  {
   "cell_type": "code",
   "execution_count": 2,
   "id": "e418fd04-eb94-4c2b-8efa-09ed548bc9c4",
   "metadata": {},
   "outputs": [
    {
     "name": "stdout",
     "output_type": "stream",
     "text": [
      "[3, 4]\n"
     ]
    }
   ],
   "source": [
    "#2. Find First and Last Position of Element in Sorted Array\n",
    "def searchRange(nums, target):\n",
    "    def binarySearchLeft(A, x):\n",
    "        left, right = 0, len(A) - 1\n",
    "        while left <= right:\n",
    "            mid = (left + right) // 2\n",
    "            if x > A[mid]: \n",
    "                left = mid + 1\n",
    "            else:\n",
    "                right = mid - 1\n",
    "        return left\n",
    "        \n",
    "    def binarySearchRight(A, x):\n",
    "        left, right = 0, len(A) - 1\n",
    "        while left <= right:\n",
    "            mid = (left + right) // 2\n",
    "            if x >= A[mid]:\n",
    "                left = mid + 1\n",
    "            else:\n",
    "                right = mid - 1\n",
    "        return right\n",
    "\n",
    "    left_idx = binarySearchLeft(nums, target)\n",
    "    if left_idx == len(nums) or nums[left_idx] != target:\n",
    "        return [-1, -1]\n",
    "\n",
    "    right_idx = binarySearchRight(nums, target)\n",
    "    return [left_idx, right_idx]\n",
    "\n",
    "# Test\n",
    "nums = [5,7,7,8,8,10] \n",
    "target = 8\n",
    "print(searchRange(nums, target))"
   ]
  },
  {
   "cell_type": "markdown",
   "id": "88ca9aea-fbee-4c0d-a184-2f9d2f1b69fe",
   "metadata": {},
   "source": [
    "A peak element is an element that is strictly greater than its neighbors.\n",
    "Given a 0-indexed integer array nums, find a peak element, and return its index. If the array contains multiple peaks, return the index to any of the peaks.\n",
    "You may imagine that nums[-1] = nums[n] = -∞. In other words, an element is always considered to be strictly greater than a neighbor that is outside the array.\n",
    "You must write an algorithm that runs in O(log n) time.\n",
    "Input: nums = [1,2,3,1]\n",
    "Output: 2\n",
    "Explanation: 3 is a peak element and your function should return the index number 2."
   ]
  },
  {
   "cell_type": "code",
   "execution_count": 3,
   "id": "32ecd475-7c8b-437a-8b1c-f5918add06cb",
   "metadata": {},
   "outputs": [
    {
     "name": "stdout",
     "output_type": "stream",
     "text": [
      "2\n"
     ]
    }
   ],
   "source": [
    "#3. Find Peak Element  \n",
    "def findPeakElement(nums):\n",
    "    left, right = 0, len(nums) - 1\n",
    "    while left < right:\n",
    "        mid = (left + right) // 2\n",
    "        if nums[mid] < nums[mid + 1]:\n",
    "            left = mid + 1\n",
    "        else:\n",
    "            right = mid\n",
    "    return left\n",
    "\n",
    "# Test\n",
    "nums = [1,2,3,1]\n",
    "print(findPeakElement(nums))"
   ]
  },
  {
   "cell_type": "markdown",
   "id": "88eccd2a-d48d-4ded-9693-d30dbe372e05",
   "metadata": {},
   "source": [
    "Given a sorted array of distinct integers and a target value, return the index if the target is found. If not, return the index where it would be if it were inserted in order.\n",
    "You must write an algorithm with O(log n) runtime complexity.\n",
    "Input: nums = [1,3,5,6], target = 5\n",
    "Output: 2\n",
    "\n",
    "Input: nums = [1,3,5,6], target = 7\n",
    "Output: 4"
   ]
  },
  {
   "cell_type": "code",
   "execution_count": 4,
   "id": "126dcf3a-b73b-4fd4-9464-d53137e858a2",
   "metadata": {},
   "outputs": [
    {
     "name": "stdout",
     "output_type": "stream",
     "text": [
      "4\n"
     ]
    }
   ],
   "source": [
    "#4. Search Insert Position  \n",
    "def searchInsert(nums, target):\n",
    "    left, right = 0, len(nums) - 1\n",
    "    while left <= right:\n",
    "        mid = (left + right) // 2\n",
    "        if nums[mid] == target:\n",
    "            return mid\n",
    "        elif nums[mid] < target:\n",
    "            left = mid + 1\n",
    "        else:\n",
    "            right = mid - 1\n",
    "    return left\n",
    "        \n",
    "# Test        \n",
    "nums = [1,3,5,6]\n",
    "target = 7\n",
    "print(searchInsert(nums, target))"
   ]
  },
  {
   "cell_type": "markdown",
   "id": "8a0a759f-4102-4049-ba52-ac13db08c96e",
   "metadata": {},
   "source": [
    "Find the majority element in the array. A majority element in an array A[] of size n is an element that appears more than n/2 times (and hence there is at most one such element). \n",
    "Input: A[]={3, 3, 4, 2, 4, 4, 2, 4, 4}\n",
    "Output: 4\n",
    "Explanation: The frequency of 4 is 5 which is greater than half of the size of the array size. "
   ]
  },
  {
   "cell_type": "code",
   "execution_count": 5,
   "id": "5b0042a3-8bb2-4f0b-b493-b80f32785a68",
   "metadata": {},
   "outputs": [
    {
     "name": "stdout",
     "output_type": "stream",
     "text": [
      "4\n"
     ]
    }
   ],
   "source": [
    "#5. Majority Element\n",
    "def majorityElement(nums):\n",
    "    count = 0\n",
    "    candidate = None\n",
    "\n",
    "    for num in nums:\n",
    "        if count == 0:\n",
    "            candidate = num\n",
    "        if num == candidate:\n",
    "             count += 1\n",
    "        else:\n",
    "             count -= 1\n",
    "\n",
    "    return candidate\n",
    "\n",
    "# Test\n",
    "nums = [3,3,4,2,4,4,2,4,4]\n",
    "print(majorityElement(nums)) "
   ]
  },
  {
   "cell_type": "code",
   "execution_count": null,
   "id": "0a0bf13b-112a-488d-acfc-025c7f80c0a4",
   "metadata": {},
   "outputs": [],
   "source": []
  }
 ],
 "metadata": {
  "kernelspec": {
   "display_name": "Python 3 (ipykernel)",
   "language": "python",
   "name": "python3"
  },
  "language_info": {
   "codemirror_mode": {
    "name": "ipython",
    "version": 3
   },
   "file_extension": ".py",
   "mimetype": "text/x-python",
   "name": "python",
   "nbconvert_exporter": "python",
   "pygments_lexer": "ipython3",
   "version": "3.10.8"
  }
 },
 "nbformat": 4,
 "nbformat_minor": 5
}
